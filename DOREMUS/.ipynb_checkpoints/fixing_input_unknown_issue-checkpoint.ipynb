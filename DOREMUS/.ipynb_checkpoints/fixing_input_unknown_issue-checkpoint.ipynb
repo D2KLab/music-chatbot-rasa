{
 "cells": [
  {
   "cell_type": "code",
   "execution_count": 1,
   "metadata": {},
   "outputs": [
    {
     "ename": "TypeError",
     "evalue": "create_intents() missing 1 required positional argument: 'splitted_script'",
     "output_type": "error",
     "traceback": [
      "\u001b[1;31m---------------------------------------------------------------------------\u001b[0m",
      "\u001b[1;31mTypeError\u001b[0m                                 Traceback (most recent call last)",
      "\u001b[1;32m<ipython-input-1-f4381f5151e6>\u001b[0m in \u001b[0;36m<module>\u001b[1;34m()\u001b[0m\n\u001b[0;32m     26\u001b[0m \u001b[1;33m\u001b[0m\u001b[0m\n\u001b[0;32m     27\u001b[0m \u001b[0mpath_intents\u001b[0m\u001b[1;33m=\u001b[0m\u001b[1;34m'dialogflow/intents/'\u001b[0m\u001b[1;33m\u001b[0m\u001b[0m\n\u001b[1;32m---> 28\u001b[1;33m \u001b[0mintents\u001b[0m\u001b[1;33m=\u001b[0m\u001b[0mcreate_intents\u001b[0m\u001b[1;33m(\u001b[0m\u001b[0mpath_intents\u001b[0m\u001b[1;33m)\u001b[0m\u001b[1;33m\u001b[0m\u001b[0m\n\u001b[0m",
      "\u001b[1;31mTypeError\u001b[0m: create_intents() missing 1 required positional argument: 'splitted_script'"
     ]
    }
   ],
   "source": [
    "import re\n",
    "import json\n",
    "def create_intents(path):\n",
    "    '''\n",
    "    This function extracts the list of entities from the intents folder\n",
    "    downloaded from dialogflow\n",
    "    This functions takes as input:\n",
    "    - path: string containing the path of the folder containg the intents\n",
    "    - returns: a list of intents\n",
    "    '''\n",
    "    required_entities=[]\n",
    "    added_part=\"def __init__(self):\\n{}self.first_time_called=0\".format(\" \"*8)\n",
    "    intents=os.listdir(path) \n",
    "    intents= list(filter(lambda name: len(re.findall(\"_[A-Za-z][A-Za-z].json$\",name))==0,intents))\n",
    "    for intent in intents:\n",
    "        with open(path+intent) as f:\n",
    "            data = json.load(f)\n",
    "        data[\"responses\"][0][\"parameters\"]\n",
    "\n",
    "            \n",
    "        \n",
    "    \n",
    "    return intents\n",
    "\n",
    "path_intents='dialogflow/intents/'\n",
    "intents=create_intents(path_intents)"
   ]
  },
  {
   "cell_type": "code",
   "execution_count": null,
   "metadata": {},
   "outputs": [],
   "source": []
  }
 ],
 "metadata": {
  "kernelspec": {
   "display_name": "Python 3",
   "language": "python",
   "name": "python3"
  },
  "language_info": {
   "codemirror_mode": {
    "name": "ipython",
    "version": 3
   },
   "file_extension": ".py",
   "mimetype": "text/x-python",
   "name": "python",
   "nbconvert_exporter": "python",
   "pygments_lexer": "ipython3",
   "version": "3.6.5"
  }
 },
 "nbformat": 4,
 "nbformat_minor": 2
}
