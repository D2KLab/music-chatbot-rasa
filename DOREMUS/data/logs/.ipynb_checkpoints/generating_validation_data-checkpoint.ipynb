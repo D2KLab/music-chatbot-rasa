{
 "cells": [
  {
   "cell_type": "code",
   "execution_count": 2,
   "metadata": {},
   "outputs": [],
   "source": [
    "import pandas as pd\n",
    "import os\n",
    "logs=pd.read_csv(\"doremus_log_2018-06.csv\")"
   ]
  },
  {
   "cell_type": "code",
   "execution_count": 5,
   "metadata": {},
   "outputs": [
    {
     "data": {
      "text/html": [
       "<div>\n",
       "<style scoped>\n",
       "    .dataframe tbody tr th:only-of-type {\n",
       "        vertical-align: middle;\n",
       "    }\n",
       "\n",
       "    .dataframe tbody tr th {\n",
       "        vertical-align: top;\n",
       "    }\n",
       "\n",
       "    .dataframe thead th {\n",
       "        text-align: right;\n",
       "    }\n",
       "</style>\n",
       "<table border=\"1\" class=\"dataframe\">\n",
       "  <thead>\n",
       "    <tr style=\"text-align: right;\">\n",
       "      <th></th>\n",
       "      <th>timestamp</th>\n",
       "      <th>platform</th>\n",
       "      <th>user</th>\n",
       "      <th>channel</th>\n",
       "      <th>intent</th>\n",
       "      <th>confidence</th>\n",
       "      <th>lang</th>\n",
       "      <th>rawMessage</th>\n",
       "      <th>cleanMessage</th>\n",
       "      <th>response</th>\n",
       "    </tr>\n",
       "  </thead>\n",
       "  <tbody>\n",
       "    <tr>\n",
       "      <th>0</th>\n",
       "      <td>2018-6-14 16:03:35</td>\n",
       "      <td>slack</td>\n",
       "      <td>U9Q3FND6E</td>\n",
       "      <td>D9ZCG8VCM</td>\n",
       "      <td>hello</td>\n",
       "      <td>1.00</td>\n",
       "      <td>en</td>\n",
       "      <td>Hi</td>\n",
       "      <td>Hi</td>\n",
       "      <td>Hi! Everyday I try to learn as much as possibl...</td>\n",
       "    </tr>\n",
       "    <tr>\n",
       "      <th>1</th>\n",
       "      <td>2018-6-14 18:19:49</td>\n",
       "      <td>slack</td>\n",
       "      <td>U9PUY35FD</td>\n",
       "      <td>DA0A1ALET</td>\n",
       "      <td>hello</td>\n",
       "      <td>1.00</td>\n",
       "      <td>en</td>\n",
       "      <td>Hi</td>\n",
       "      <td>Hi</td>\n",
       "      <td>Hi! Everyday I try to learn as much as possibl...</td>\n",
       "    </tr>\n",
       "    <tr>\n",
       "      <th>2</th>\n",
       "      <td>2018-6-16 13:59:34</td>\n",
       "      <td>slack</td>\n",
       "      <td>U9Q3FND6E</td>\n",
       "      <td>D9ZCG8VCM</td>\n",
       "      <td>works-by</td>\n",
       "      <td>0.75</td>\n",
       "      <td>en</td>\n",
       "      <td>Tell me one work by Beethoven</td>\n",
       "      <td>Tell me one work by Beethoven</td>\n",
       "      <td>You told me few filters. Do you want to add so...</td>\n",
       "    </tr>\n",
       "    <tr>\n",
       "      <th>3</th>\n",
       "      <td>2018-6-16 14:05:30</td>\n",
       "      <td>slack</td>\n",
       "      <td>U9Q3FND6E</td>\n",
       "      <td>D9ZCG8VCM</td>\n",
       "      <td>works-by</td>\n",
       "      <td>0.73</td>\n",
       "      <td>en</td>\n",
       "      <td>Tell me one work by Beethoven</td>\n",
       "      <td>Tell me one work by Beethoven</td>\n",
       "      <td>You told me few filters. Do you want to add so...</td>\n",
       "    </tr>\n",
       "    <tr>\n",
       "      <th>4</th>\n",
       "      <td>2018-6-16 14:05:36</td>\n",
       "      <td>slack</td>\n",
       "      <td>U9Q3FND6E</td>\n",
       "      <td>D9ZCG8VCM</td>\n",
       "      <td>works-by - yes</td>\n",
       "      <td>1.00</td>\n",
       "      <td>en</td>\n",
       "      <td>Yes thanks</td>\n",
       "      <td>Yes thanks!</td>\n",
       "      <td>Ok tell me what</td>\n",
       "    </tr>\n",
       "  </tbody>\n",
       "</table>\n",
       "</div>"
      ],
      "text/plain": [
       "            timestamp platform       user    channel          intent  \\\n",
       "0  2018-6-14 16:03:35    slack  U9Q3FND6E  D9ZCG8VCM           hello   \n",
       "1  2018-6-14 18:19:49    slack  U9PUY35FD  DA0A1ALET           hello   \n",
       "2  2018-6-16 13:59:34    slack  U9Q3FND6E  D9ZCG8VCM        works-by   \n",
       "3  2018-6-16 14:05:30    slack  U9Q3FND6E  D9ZCG8VCM        works-by   \n",
       "4  2018-6-16 14:05:36    slack  U9Q3FND6E  D9ZCG8VCM  works-by - yes   \n",
       "\n",
       "   confidence lang                     rawMessage  \\\n",
       "0        1.00   en                             Hi   \n",
       "1        1.00   en                             Hi   \n",
       "2        0.75   en  Tell me one work by Beethoven   \n",
       "3        0.73   en  Tell me one work by Beethoven   \n",
       "4        1.00   en                     Yes thanks   \n",
       "\n",
       "                    cleanMessage  \\\n",
       "0                             Hi   \n",
       "1                             Hi   \n",
       "2  Tell me one work by Beethoven   \n",
       "3  Tell me one work by Beethoven   \n",
       "4                    Yes thanks!   \n",
       "\n",
       "                                            response  \n",
       "0  Hi! Everyday I try to learn as much as possibl...  \n",
       "1  Hi! Everyday I try to learn as much as possibl...  \n",
       "2  You told me few filters. Do you want to add so...  \n",
       "3  You told me few filters. Do you want to add so...  \n",
       "4                                    Ok tell me what  "
      ]
     },
     "execution_count": 5,
     "metadata": {},
     "output_type": "execute_result"
    }
   ],
   "source": [
    "logs.head()"
   ]
  },
  {
   "cell_type": "code",
   "execution_count": 6,
   "metadata": {},
   "outputs": [],
   "source": [
    "import pandas as pd\n",
    "import os\n",
    "path_folder='.'\n",
    "logs=pd.read_csv(\"doremus_log_2018-06.csv\")\n",
    "intents=logs[\"intent\"].unique().tolist()\n",
    "intent_val_data=[]\n",
    "for intent in intents:\n",
    "    messages=logs.groupby(\"intent\").get_group(intent)['cleanMessage'].unique().tolist()\n",
    "    messages=list(map(lambda word: word.replace('\"', ''),messages))\n",
    "    intent_string=\"## intent: {}\".format(intent)\n",
    "    intent_string=\"\\n - \".join([intent_string]+messages)\n",
    "    intent_val_data.append(intent_string)\n",
    "file_name=\"nlu_validation\"\n",
    "with open(os.path.join(path_folder, '{}.md'.format(file_name)), mode='w') as md_file:\n",
    "    md_file.write(\"\\n\".join(intent_val_data))    "
   ]
  },
  {
   "cell_type": "code",
   "execution_count": 38,
   "metadata": {},
   "outputs": [
    {
     "name": "stderr",
     "output_type": "stream",
     "text": [
      "DEBUG:matplotlib.backends:backend module://ipykernel.pylab.backend_inline version unknown\n",
      "INFO:rasa_nlu.components:Added 'nlp_spacy' to component cache. Key 'nlp_spacy-en'.\n",
      "INFO:rasa_nlu.training_data.loading:Training data format of nlu_validation.md is md\n",
      "INFO:rasa_nlu.training_data.training_data:Training data stats: \n",
      "\t- intent examples: 247 (13 distinct intents)\n",
      "\t- Found intents: 'discover-artist', 'find-artist', 'works-by - yes', 'find-performance', 'works-by-genre', 'hello', 'reset', 'works-by-artist', 'works-by', 'works-by-instrument', 'works-by-years', 'help', 'works-by - no'\n",
      "\t- entity examples: 180 (7 distinct entities)\n",
      "\t- found entities: 'doremus-instrument', 'doremus-genre', 'date-period', 'number', 'doremus-strictly', 'geo-city', 'doremus-artist'\n",
      "\n",
      "DEBUG:rasa_nlu.training_data.training_data:Validating training data...\n",
      "DEBUG:rasa_nlu.extractors.crf_entity_extractor:Inconsistent BILOU tagging found, B- tag, L- tag pair encloses multiple entity classes.i.e. [B-a, I-b, L-a] instead of [B-a, I-a, L-a].\n",
      "Assuming B- class is correct.\n",
      "DEBUG:rasa_nlu.extractors.crf_entity_extractor:Inconsistent BILOU tagging found, B- tag not closed by L- tag, i.e [B-a, I-a, O] instead of [B-a, L-a, O].\n",
      "Assuming last tag is L-\n",
      "DEBUG:rasa_nlu.extractors.crf_entity_extractor:Inconsistent BILOU tagging found, B- tag, L- tag pair encloses multiple entity classes.i.e. [B-a, I-b, L-a] instead of [B-a, I-a, L-a].\n",
      "Assuming B- class is correct.\n",
      "DEBUG:rasa_nlu.extractors.crf_entity_extractor:Inconsistent BILOU tagging found, B- tag not closed by L- tag, i.e [B-a, I-a, O] instead of [B-a, L-a, O].\n",
      "Assuming last tag is L-\n",
      "INFO:rasa_nlu.evaluate:Intent evaluation results:\n",
      "INFO:rasa_nlu.evaluate:Intent Evaluation: Only considering those 247 examples that have a defined intent out of 247 examples\n",
      "INFO:rasa_nlu.evaluate:F1-Score:  0.867575091205779\n",
      "INFO:rasa_nlu.evaluate:Precision: 0.895915306309603\n",
      "INFO:rasa_nlu.evaluate:Accuracy:  0.8663967611336032\n",
      "INFO:rasa_nlu.evaluate:Classification report: \n",
      "                     precision    recall  f1-score   support\n",
      "\n",
      "    discover-artist       0.95      0.91      0.93        23\n",
      "        find-artist       0.96      1.00      0.98        22\n",
      "   find-performance       0.88      0.97      0.92        30\n",
      "              hello       1.00      0.42      0.59        12\n",
      "               help       1.00      0.43      0.60         7\n",
      "              reset       1.00      0.57      0.73         7\n",
      "           works-by       0.96      0.98      0.97        83\n",
      "      works-by - no       0.60      0.60      0.60        10\n",
      "     works-by - yes       0.23      0.50      0.32         6\n",
      "    works-by-artist       0.60      1.00      0.75         6\n",
      "     works-by-genre       0.72      0.72      0.72        18\n",
      "works-by-instrument       0.91      0.83      0.87        12\n",
      "     works-by-years       1.00      1.00      1.00        11\n",
      "\n",
      "        avg / total       0.90      0.87      0.87       247\n",
      "\n",
      "INFO:rasa_nlu.evaluate:There were some nlu intent classification errors. Use `--verbose` to show them in the log.\n",
      "DEBUG:rasa_nlu.evaluate:\n",
      "\n",
      "These intent examples could not be classified correctly \n",
      "[{'text': 'bonjour', 'intent': 'hello', 'intent_prediction': {'name': 'works-by-genre', 'confidence': 0.3010268491354804}}, {'text': 'salut', 'intent': 'hello', 'intent_prediction': {'name': 'works-by-genre', 'confidence': 0.3010268491354804}}, {'text': 'bonsoir', 'intent': 'hello', 'intent_prediction': {'name': 'works-by-genre', 'confidence': 0.21195730041101576}}, {'text': 'Bonjour!', 'intent': 'hello', 'intent_prediction': {'name': 'find-performance', 'confidence': 0.17189332138408836}}, {'text': 'Bonjour', 'intent': 'hello', 'intent_prediction': {'name': 'works-by-genre', 'confidence': 0.3010268491354804}}, {'text': 'bonjour!', 'intent': 'hello', 'intent_prediction': {'name': 'find-performance', 'confidence': 0.17189332138408836}}, {'text': 'Salut', 'intent': 'hello', 'intent_prediction': {'name': 'works-by-genre', 'confidence': 0.3010268491354804}}, {'text': 'Give me 2 concerts', 'intent': 'works-by', 'intent_prediction': {'name': 'find-performance', 'confidence': 0.3741996835364921}}, {'text': 'No thanks', 'intent': 'works-by', 'intent_prediction': {'name': 'works-by - no', 'confidence': 0.3767072955097538}}, {'text': 'Yes thanks!', 'intent': 'works-by - yes', 'intent_prediction': {'name': 'works-by - no', 'confidence': 0.1987490688155983}}, {'text': 'yes!', 'intent': 'works-by - yes', 'intent_prediction': {'name': 'works-by - no', 'confidence': 0.2270161512438739}}, {'text': 'Yes!', 'intent': 'works-by - yes', 'intent_prediction': {'name': 'works-by - no', 'confidence': 0.2270161512438739}}, {'text': \"No it's ok\", 'intent': 'works-by - no', 'intent_prediction': {'name': 'works-by - yes', 'confidence': 0.4018659328875093}}, {'text': 'nope', 'intent': 'works-by - no', 'intent_prediction': {'name': 'works-by - yes', 'confidence': 0.3248754323453922}}, {'text': 'no thakns', 'intent': 'works-by - no', 'intent_prediction': {'name': 'discover-artist', 'confidence': 0.2212108392230374}}, {'text': 'non merci', 'intent': 'works-by - no', 'intent_prediction': {'name': 'find-performance', 'confidence': 0.18727062285783763}}, {'text': 'Rachmaninoff', 'intent': 'discover-artist', 'intent_prediction': {'name': 'works-by-artist', 'confidence': 0.3022332975364111}}, {'text': 'who is Mozart', 'intent': 'discover-artist', 'intent_prediction': {'name': 'find-artist', 'confidence': 0.3261317807749781}}, {'text': 'Find me 2 performances between 25/06/2018 and 28/06/2018', 'intent': 'find-performance', 'intent_prediction': {'name': 'works-by', 'confidence': 0.34132535442145284}}, {'text': 'what are you capable of', 'intent': 'help', 'intent_prediction': {'name': 'works-by - yes', 'confidence': 0.3182013250293399}}, {'text': 'why should I chose you to help me', 'intent': 'help', 'intent_prediction': {'name': 'works-by - yes', 'confidence': 0.23393076799532717}}, {'text': 'what is your job', 'intent': 'help', 'intent_prediction': {'name': 'works-by - yes', 'confidence': 0.32503908307718704}}, {'text': 'what are your capabilities', 'intent': 'help', 'intent_prediction': {'name': 'works-by - yes', 'confidence': 0.27616159062573825}}, {'text': \"forget what I told you and let's restart\", 'intent': 'reset', 'intent_prediction': {'name': 'works-by - yes', 'confidence': 0.28392650735892305}}, {'text': 'just forget about everything I said', 'intent': 'reset', 'intent_prediction': {'name': 'works-by - yes', 'confidence': 0.3390652552148137}}, {'text': \"let's do this again\", 'intent': 'reset', 'intent_prediction': {'name': 'works-by - yes', 'confidence': 0.2784458425053149}}, {'text': 'I want only melody', 'intent': 'works-by-genre', 'intent_prediction': {'name': 'works-by - yes', 'confidence': 0.23653721243754}}, {'text': 'debussy', 'intent': 'works-by-genre', 'intent_prediction': {'name': 'works-by-artist', 'confidence': 0.3022332975364111}}, {'text': 'melodie', 'intent': 'works-by-genre', 'intent_prediction': {'name': 'works-by-artist', 'confidence': 0.2667502368668484}}, {'text': 'melody', 'intent': 'works-by-genre', 'intent_prediction': {'name': 'works-by-instrument', 'confidence': 0.40682956950780347}}, {'text': 'Symphonie', 'intent': 'works-by-genre', 'intent_prediction': {'name': 'works-by-artist', 'confidence': 0.3022332975364111}}, {'text': 'works by only instrument', 'intent': 'works-by-instrument', 'intent_prediction': {'name': 'works-by', 'confidence': 0.8038501088874315}}, {'text': 'only works for clarinet', 'intent': 'works-by-instrument', 'intent_prediction': {'name': 'works-by', 'confidence': 0.46212178027396683}}]\n",
      "INFO:rasa_nlu.evaluate:Model prediction errors saved to errors.json.\n",
      "INFO:rasa_nlu.evaluate:Confusion matrix, without normalization: \n",
      "[[21  1  0  0  0  0  0  0  0  1  0  0  0]\n",
      " [ 0 22  0  0  0  0  0  0  0  0  0  0  0]\n",
      " [ 0  0 29  0  0  0  1  0  0  0  0  0  0]\n",
      " [ 0  0  2  5  0  0  0  0  0  0  5  0  0]\n",
      " [ 0  0  0  0  3  0  0  0  4  0  0  0  0]\n",
      " [ 0  0  0  0  0  4  0  0  3  0  0  0  0]\n",
      " [ 0  0  1  0  0  0 81  1  0  0  0  0  0]\n",
      " [ 1  0  1  0  0  0  0  6  2  0  0  0  0]\n",
      " [ 0  0  0  0  0  0  0  3  3  0  0  0  0]\n",
      " [ 0  0  0  0  0  0  0  0  0  6  0  0  0]\n",
      " [ 0  0  0  0  0  0  0  0  1  3 13  1  0]\n",
      " [ 0  0  0  0  0  0  2  0  0  0  0 10  0]\n",
      " [ 0  0  0  0  0  0  0  0  0  0  0  0 11]]\n"
     ]
    },
    {
     "data": {
      "image/png": "[encoded data removed]",
      "text/plain": [
       "<Figure size 432x288 with 2 Axes>"
      ]
     },
     "metadata": {},
     "output_type": "display_data"
    },
    {
     "data": {
      "image/png": "[encoded data removed]",
      "text/plain": [
       "<Figure size 432x288 with 1 Axes>"
      ]
     },
     "metadata": {},
     "output_type": "display_data"
    },
    {
     "name": "stderr",
     "output_type": "stream",
     "text": [
      "INFO:rasa_nlu.evaluate:Entity evaluation results:\n",
      "INFO:rasa_nlu.evaluate:Evaluation for entity extractor: ner_crf \n",
      "INFO:rasa_nlu.evaluate:F1-Score:  0.9083451344948615\n",
      "INFO:rasa_nlu.evaluate:Precision: 0.9178112199771019\n",
      "INFO:rasa_nlu.evaluate:Accuracy:  0.9132290184921764\n",
      "INFO:rasa_nlu.evaluate:Classification report: \n",
      "                    precision    recall  f1-score   support\n",
      "\n",
      "       date-period       0.95      0.81      0.88       157\n",
      "    doremus-artist       0.97      0.72      0.83       103\n",
      "     doremus-genre       0.94      0.42      0.59        40\n",
      "doremus-instrument       1.00      0.89      0.94        27\n",
      "  doremus-strictly       1.00      1.00      1.00         4\n",
      "          geo-city       1.00      0.76      0.86        33\n",
      "         no_entity       0.90      0.99      0.94       949\n",
      "            number       0.95      0.82      0.88        93\n",
      "\n",
      "       avg / total       0.92      0.91      0.91      1406\n",
      "\n"
     ]
    }
   ],
   "source": [
    "%matplotlib inline\n",
    "from rasa_nlu.evaluate import run_evaluation\n",
    "\n",
    "\n",
    "import logging, io, json, warnings\n",
    "logging.basicConfig(level=\"INFO\")\n",
    "warnings.filterwarnings('ignore')\n",
    "model_directory='C:/Users/Alaa Boukhary/Desktop/RASA_project/DOREMOS/models/nlu/default/current'\n",
    "\n",
    "run_evaluation(\"nlu_validation.md\", model_directory)"
   ]
  },
  {
   "cell_type": "code",
   "execution_count": 34,
   "metadata": {},
   "outputs": [
    {
     "name": "stderr",
     "output_type": "stream",
     "text": [
      "INFO:rasa_nlu.components:Added 'nlp_spacy' to component cache. Key 'nlp_spacy-en'.\n"
     ]
    }
   ],
   "source": [
    "from rasa_nlu.model import Interpreter\n",
    "\n",
    "# where model_directory points to the model folder\n",
    "model_directory='C:/Users/Alaa Boukhary/Desktop/RASA_project/DOREMOS/models/nlu/default/current'\n",
    "interpreter = Interpreter.load(model_directory)"
   ]
  },
  {
   "cell_type": "code",
   "execution_count": 37,
   "metadata": {},
   "outputs": [
    {
     "data": {
      "text/plain": [
       "{'intent': {'name': 'works-by-instrument', 'confidence': 0.4154317321932009},\n",
       " 'entities': [],\n",
       " 'intent_ranking': [{'name': 'works-by-instrument',\n",
       "   'confidence': 0.4154317321932009},\n",
       "  {'name': 'works-by - yes', 'confidence': 0.14817778006961943},\n",
       "  {'name': 'works-by-years', 'confidence': 0.09865960305111414},\n",
       "  {'name': 'works-by-genre', 'confidence': 0.0639263459060277},\n",
       "  {'name': 'works-by', 'confidence': 0.04363060824260125},\n",
       "  {'name': 'find-performance', 'confidence': 0.04010853695634268},\n",
       "  {'name': 'find-artist', 'confidence': 0.03706349379313348},\n",
       "  {'name': 'works-by - no', 'confidence': 0.03653850433636949},\n",
       "  {'name': 'works-by-artist', 'confidence': 0.03583974184302366},\n",
       "  {'name': 'discover-artist', 'confidence': 0.02244078832385495}],\n",
       " 'text': 'yes the instrument'}"
      ]
     },
     "execution_count": 37,
     "metadata": {},
     "output_type": "execute_result"
    }
   ],
   "source": [
    "interpreter.parse(\"yes the instrument\")"
   ]
  },
  {
   "cell_type": "code",
   "execution_count": null,
   "metadata": {},
   "outputs": [],
   "source": []
  }
 ],
 "metadata": {
  "kernelspec": {
   "display_name": "Python 3",
   "language": "python",
   "name": "python3"
  },
  "language_info": {
   "codemirror_mode": {
    "name": "ipython",
    "version": 3
   },
   "file_extension": ".py",
   "mimetype": "text/x-python",
   "name": "python",
   "nbconvert_exporter": "python",
   "pygments_lexer": "ipython3",
   "version": "3.6.5"
  }
 },
 "nbformat": 4,
 "nbformat_minor": 2
}
