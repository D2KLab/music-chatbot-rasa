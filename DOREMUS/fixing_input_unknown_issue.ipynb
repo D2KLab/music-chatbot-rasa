{
 "cells": [
  {
   "cell_type": "code",
   "execution_count": 16,
   "metadata": {},
   "outputs": [
    {
     "name": "stdout",
     "output_type": "stream",
     "text": [
      "doremus-artist discover-artist.json\n",
      "date-period find-performance.json\n",
      "doremus-artist works-by-artist.json\n",
      "doremus-genre works-by-genre.json\n",
      "doremus-instrument works-by-instrument.json\n",
      "date-period works-by-years.json\n"
     ]
    }
   ],
   "source": [
    "import re\n",
    "import json\n",
    "import numpy as np\n",
    "import os\n",
    "def required_entities(path):\n",
    "    required_entities=[]\n",
    "    added_part=\"def __init__(self):\\n{}self.first_time_called=0\".format(\" \"*8)\n",
    "    intents=os.listdir(path) \n",
    "    intents= list(filter(lambda name: len(re.findall(\"_[A-Za-z][A-Za-z].json$\",name))==0,intents))\n",
    "    for intent in intents:\n",
    "        with open(path+intent) as f:\n",
    "            data = json.load(f)\n",
    "        parameters=data[\"responses\"][0][\"parameters\"]\n",
    "        for param in parameters:\n",
    "            if param[\"required\"]== True:\n",
    "                print(param[\"name\"],intent)\n",
    "                required_entities.append(param[\"name\"])\n",
    "                \n",
    "            \n",
    "    \n",
    "            \n",
    "        \n",
    "    \n",
    "    return np.unique(required_entities)\n",
    "\n",
    "path_intents='dialogflow/intents/'\n",
    "entities=required_entities(path_intents)"
   ]
  },
  {
   "cell_type": "code",
   "execution_count": 15,
   "metadata": {},
   "outputs": [
    {
     "data": {
      "text/plain": [
       "array(['date-period', 'doremus-artist', 'doremus-genre',\n",
       "       'doremus-instrument'], dtype='<U18')"
      ]
     },
     "execution_count": 15,
     "metadata": {},
     "output_type": "execute_result"
    }
   ],
   "source": [
    "entities"
   ]
  },
  {
   "cell_type": "code",
   "execution_count": null,
   "metadata": {},
   "outputs": [],
   "source": []
  }
 ],
 "metadata": {
  "kernelspec": {
   "display_name": "Python 3",
   "language": "python",
   "name": "python3"
  },
  "language_info": {
   "codemirror_mode": {
    "name": "ipython",
    "version": 3
   },
   "file_extension": ".py",
   "mimetype": "text/x-python",
   "name": "python",
   "nbconvert_exporter": "python",
   "pygments_lexer": "ipython3",
   "version": "3.6.5"
  }
 },
 "nbformat": 4,
 "nbformat_minor": 2
}
