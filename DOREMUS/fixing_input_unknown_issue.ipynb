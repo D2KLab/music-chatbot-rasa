{
 "cells": [
  {
   "cell_type": "code",
   "execution_count": 27,
   "metadata": {},
   "outputs": [
    {
     "name": "stdout",
     "output_type": "stream",
     "text": [
      "doremus-artist discover-artist.json\n",
      "date-period find-performance.json\n",
      "doremus-artist works-by-artist.json\n",
      "doremus-genre works-by-genre.json\n",
      "doremus-instrument works-by-instrument.json\n",
      "date-period works-by-years.json\n"
     ]
    }
   ],
   "source": [
    "import re\n",
    "import json\n",
    "import numpy as np\n",
    "import os\n",
    "def extract_required_entities(path):\n",
    "    required_entities=[]\n",
    "    intents=os.listdir(path) \n",
    "    intents= list(filter(lambda name: len(re.findall(\"_[A-Za-z][A-Za-z].json$\",name))==0,intents))\n",
    "    for intent in intents:\n",
    "        with open(path+intent) as f:\n",
    "            data = json.load(f)\n",
    "        parameters=data[\"responses\"][0][\"parameters\"]\n",
    "        for param in parameters:\n",
    "            if param[\"required\"]== True:\n",
    "                print(param[\"name\"],intent)\n",
    "                required_entities.append(param[\"name\"])\n",
    "                \n",
    "            \n",
    "    \n",
    "            \n",
    "        \n",
    "    \n",
    "    return np.unique(required_entities)\n",
    "\n",
    "path_intents='dialogflow/intents/'\n",
    "entities=extract_required_entities(path_intents)"
   ]
  },
  {
   "cell_type": "code",
   "execution_count": 28,
   "metadata": {},
   "outputs": [
    {
     "data": {
      "text/plain": [
       "array(['date-period', 'doremus-artist', 'doremus-genre',\n",
       "       'doremus-instrument'], dtype='<U18')"
      ]
     },
     "execution_count": 28,
     "metadata": {},
     "output_type": "execute_result"
    }
   ],
   "source": [
    "entities"
   ]
  },
  {
   "cell_type": "code",
   "execution_count": 73,
   "metadata": {
    "pixiedust": {
     "displayParams": {}
    }
   },
   "outputs": [],
   "source": [
    "required_entities=['date-period', 'doremus-artist', 'doremus-genre',\n",
    "       'doremus-instrument']\n",
    "entities_to_intents={'date-period': 'inform_period','doremus-artist': 'inform_artist', \n",
    "                     'doremus-genre': 'inform_genre', 'doremus-instrument': 'inform_instrument'}\n",
    "\n",
    "def create_new_intents(path):\n",
    "    new_intent_examples_list=[]\n",
    "    with open(path,encoding=\"utf8\") as f:\n",
    "        data = json.load(f)\n",
    "    common_examples=data[\"rasa_nlu_data\"][\"common_examples\"]\n",
    "    for example in common_examples[:100]:\n",
    "        if 'entities' in example:\n",
    "            for entity in example['entities']:\n",
    "                if entity['entity'] in required_entities:\n",
    "                    new_intent_example={}\n",
    "                    length_entity=entity['end']-entity['start']\n",
    "                    new_intent_example['intent']=entities_to_intents[entity['entity']]\n",
    "                    new_intent_example['entities']=[{'start': 0, 'end': length_entity, 'value': entity['value'], \n",
    "                                                      'entity': entity['entity']}]\n",
    "                    new_intent_example['text'] = entity['value']\n",
    "                    new_intent_examples_list.append(new_intent_example)\n",
    "    new_intent_examples_json={}\n",
    "    new_intent_examples_json[ \"rasa_nlu_data\"]={\"common_examples\": new_intent_examples_list }\n",
    "    with open('data/new_intents.json', 'w') as f:\n",
    "        json.dump(new_intent_examples_json,f, indent=2)\n",
    "\n",
    "            \n",
    "            \n",
    "create_new_intents(\"data/training_data.json\")"
   ]
  },
  {
   "cell_type": "code",
   "execution_count": null,
   "metadata": {},
   "outputs": [],
   "source": [
    "def create_int"
   ]
  }
 ],
 "metadata": {
  "kernelspec": {
   "display_name": "Python 3",
   "language": "python",
   "name": "python3"
  },
  "language_info": {
   "codemirror_mode": {
    "name": "ipython",
    "version": 3
   },
   "file_extension": ".py",
   "mimetype": "text/x-python",
   "name": "python",
   "nbconvert_exporter": "python",
   "pygments_lexer": "ipython3",
   "version": "3.6.5"
  }
 },
 "nbformat": 4,
 "nbformat_minor": 2
}
